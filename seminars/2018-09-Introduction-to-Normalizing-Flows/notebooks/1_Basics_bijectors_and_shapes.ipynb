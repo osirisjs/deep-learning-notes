{
 "cells": [
  {
   "cell_type": "markdown",
   "metadata": {},
   "source": [
    "# Tensorflow Bijectors simple example\n",
    "Bijectors and shapes of the tensors which are produced by different functions"
   ]
  },
  {
   "cell_type": "code",
   "execution_count": 1,
   "metadata": {
    "collapsed": true
   },
   "outputs": [],
   "source": [
    "import numpy as np\n",
    "import matplotlib.pyplot as plt\n",
    "\n",
    "%matplotlib inline\n",
    "\n",
    "import numpy as np\n",
    "import matplotlib.pyplot as plt\n",
    "%matplotlib inline\n",
    "import tensorflow as tf\n",
    "tfd = tf.contrib.distributions\n",
    "tfb = tfd.bijectors\n",
    "layers = tf.contrib.layers"
   ]
  },
  {
   "cell_type": "code",
   "execution_count": 2,
   "metadata": {
    "collapsed": true
   },
   "outputs": [],
   "source": [
    "sess = tf.InteractiveSession()"
   ]
  },
  {
   "cell_type": "markdown",
   "metadata": {},
   "source": [
    "# Comparing custom implementation of NF with implemented function"
   ]
  },
  {
   "cell_type": "markdown",
   "metadata": {},
   "source": [
    "## Building simple bijector: $y = \\sigma(x \\cdot w + b)$"
   ]
  },
  {
   "cell_type": "code",
   "execution_count": 3,
   "metadata": {
    "collapsed": true
   },
   "outputs": [],
   "source": [
    "base_dist = tfd.MultivariateNormalDiag(loc=tf.zeros([2], tf.float32))\n",
    "bijectors = [\n",
    "    tfb.AffineScalar(shift=tf.constant([0.2, 2.0]), scale=tf.constant([0.3, 1.2])),\n",
    "    tfb.Sigmoid()\n",
    "]\n",
    "\n",
    "dist = tfd.TransformedDistribution(\n",
    "    distribution=base_dist,\n",
    "    bijector=tfb.Chain(list(reversed(bijectors))),\n",
    ")"
   ]
  },
  {
   "cell_type": "markdown",
   "metadata": {},
   "source": [
    "Manual computation of the log likelihood "
   ]
  },
  {
   "cell_type": "code",
   "execution_count": 11,
   "metadata": {
    "collapsed": true
   },
   "outputs": [],
   "source": [
    "# some initial z\n",
    "z = tf.constant([0.6, 0.5])\n",
    "\n",
    "# inverse first bijector + accumulate log_det_jacobian\n",
    "z_1 = bijectors[1].inverse(z)\n",
    "log_z1_z = bijectors[1].inverse_log_det_jacobian(z)\n",
    "\n",
    "# inverse second bijector + accumulate log_det_jacobian\n",
    "z_0 = bijectors[0].inverse(z_1)\n",
    "log_z0_z1 = bijectors[0].inverse_log_det_jacobian(z_1)\n",
    "\n",
    "# final density\n",
    "log_prob = base_dist.log_prob(z_0) + log_z1_z + log_z0_z1"
   ]
  },
  {
   "cell_type": "code",
   "execution_count": 12,
   "metadata": {},
   "outputs": [
    {
     "data": {
      "text/plain": [
       "array([-0.83020973, -2.2573261 ], dtype=float32)"
      ]
     },
     "execution_count": 12,
     "metadata": {},
     "output_type": "execute_result"
    }
   ],
   "source": [
    "dist.log_prob(z).eval()"
   ]
  },
  {
   "cell_type": "code",
   "execution_count": 13,
   "metadata": {},
   "outputs": [
    {
     "data": {
      "text/plain": [
       "array([-0.83020973, -2.2573261 ], dtype=float32)"
      ]
     },
     "execution_count": 13,
     "metadata": {},
     "output_type": "execute_result"
    }
   ],
   "source": [
    "log_prob.eval()"
   ]
  },
  {
   "cell_type": "markdown",
   "metadata": {},
   "source": [
    "Compare this with implemented function"
   ]
  },
  {
   "cell_type": "code",
   "execution_count": 14,
   "metadata": {},
   "outputs": [
    {
     "data": {
      "text/plain": [
       "array([0.43595785, 0.10462989], dtype=float32)"
      ]
     },
     "execution_count": 14,
     "metadata": {},
     "output_type": "execute_result"
    }
   ],
   "source": [
    "dist.prob(z).eval()"
   ]
  },
  {
   "cell_type": "code",
   "execution_count": 16,
   "metadata": {},
   "outputs": [
    {
     "data": {
      "text/plain": [
       "<tf.Tensor 'MultivariateNormalDiag_23/sample/affine_linear_operator/forward/add:0' shape=(3, 5, 2, 4) dtype=float32>"
      ]
     },
     "execution_count": 16,
     "metadata": {},
     "output_type": "execute_result"
    }
   ],
   "source": [
    "base_dist = tfd.MultivariateNormalDiag(loc=tf.zeros([2, 4], tf.float32))\n",
    "base_dist.sample()        # [2, 4]\n",
    "base_dist.sample(3)       # [3, 2, 4]\n",
    "base_dist.sample([3, 5])  # [3, 5, 2, 4]"
   ]
  },
  {
   "cell_type": "code",
   "execution_count": 15,
   "metadata": {},
   "outputs": [
    {
     "data": {
      "text/plain": [
       "<tf.Tensor 'MultivariateNormalDiag_17/sample/affine_linear_operator/forward/add:0' shape=(3, 5, 2, 4) dtype=float32>"
      ]
     },
     "execution_count": 15,
     "metadata": {},
     "output_type": "execute_result"
    }
   ],
   "source": [
    "base_dist.sample([3, 5])"
   ]
  },
  {
   "cell_type": "markdown",
   "metadata": {},
   "source": [
    "# Shape of samples from different distributions"
   ]
  },
  {
   "cell_type": "code",
   "execution_count": 21,
   "metadata": {},
   "outputs": [
    {
     "data": {
      "text/plain": [
       "<tf.Tensor 'sigmoidMultivariateNormalDiag_10/sample/sigmoid/forward/Sigmoid:0' shape=(3, 5, 2, 4) dtype=float32>"
      ]
     },
     "execution_count": 21,
     "metadata": {},
     "output_type": "execute_result"
    }
   ],
   "source": [
    "dist = tfd.TransformedDistribution(\n",
    "    distribution=base_dist,\n",
    "    bijector=tfb.Sigmoid(),\n",
    ")\n",
    "\n",
    "dist.sample()       # [2, 4]\n",
    "dist.sample(3)      # [3, 2, 4]\n",
    "dist.sample([3, 5]) # [3, 5, 2, 4]"
   ]
  },
  {
   "cell_type": "code",
   "execution_count": 40,
   "metadata": {},
   "outputs": [
    {
     "data": {
      "text/plain": [
       "<tf.Tensor 'sigmoidNormal_17/sample/sigmoid/forward/Sigmoid:0' shape=(3, 5, 2, 4) dtype=float32>"
      ]
     },
     "execution_count": 40,
     "metadata": {},
     "output_type": "execute_result"
    }
   ],
   "source": [
    "base_dist = tfd.Normal(loc=0.0, scale=1.0) # must be scalar\n",
    "dist = tfd.TransformedDistribution(\n",
    "    batch_shape=[2], \n",
    "    event_shape=[4],\n",
    "    distribution=base_dist,\n",
    "    bijector=tfb.Sigmoid(),\n",
    ")\n",
    "\n",
    "dist.sample()       # [2, 4]\n",
    "dist.sample(3)      # [3, 2, 4]\n",
    "dist.sample([3, 5]) # [3, 5, 2, 4]"
   ]
  },
  {
   "cell_type": "code",
   "execution_count": 44,
   "metadata": {},
   "outputs": [
    {
     "data": {
      "text/plain": [
       "<tf.Tensor 'exp_6/forward_log_det_jacobian/Neg_1:0' shape=(3, 4) dtype=float32>"
      ]
     },
     "execution_count": 44,
     "metadata": {},
     "output_type": "execute_result"
    }
   ],
   "source": [
    "sigmoid_bijector = tfb.Exp()\n",
    "x = tf.random_normal(shape=[3, 4])\n",
    "sigmoid_bijector.forward(x) # [3, 4]\n",
    "sigmoid_bijector.forward_log_det_jacobian(x) # [3, 4]"
   ]
  },
  {
   "cell_type": "code",
   "execution_count": 47,
   "metadata": {},
   "outputs": [
    {
     "data": {
      "text/plain": [
       "<tf.Tensor 'exp_13/forward_log_det_jacobian/Neg_1:0' shape=(3,) dtype=float32>"
      ]
     },
     "execution_count": 47,
     "metadata": {},
     "output_type": "execute_result"
    }
   ],
   "source": [
    "sigmoid_bijector = tfb.Exp(event_ndims=1)\n",
    "x = tf.random_normal(shape=[3, 4])\n",
    "sigmoid_bijector.forward(x) # [3, 4]\n",
    "sigmoid_bijector.forward_log_det_jacobian(x) # [3]"
   ]
  },
  {
   "cell_type": "code",
   "execution_count": 49,
   "metadata": {},
   "outputs": [
    {
     "data": {
      "text/plain": [
       "<tf.Tensor 'exp_18/forward/Exp:0' shape=(3, 4) dtype=float32>"
      ]
     },
     "execution_count": 49,
     "metadata": {},
     "output_type": "execute_result"
    }
   ],
   "source": [
    "sigmoid_bijector = tfb.Exp(event_ndims=2)\n",
    "x = tf.random_normal(shape=[3, 4])\n",
    "sigmoid_bijector.forward(x) # [3, 4]\n",
    "sigmoid_bijector.forward_log_det_jacobian(x) # []"
   ]
  },
  {
   "cell_type": "code",
   "execution_count": null,
   "metadata": {
    "collapsed": true
   },
   "outputs": [],
   "source": []
  }
 ],
 "metadata": {
  "kernelspec": {
   "display_name": "detection",
   "language": "python",
   "name": "detection"
  },
  "language_info": {
   "codemirror_mode": {
    "name": "ipython",
    "version": 3
   },
   "file_extension": ".py",
   "mimetype": "text/x-python",
   "name": "python",
   "nbconvert_exporter": "python",
   "pygments_lexer": "ipython3",
   "version": "3.6.5"
  }
 },
 "nbformat": 4,
 "nbformat_minor": 2
}
